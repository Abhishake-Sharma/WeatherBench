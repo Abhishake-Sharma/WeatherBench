{
 "cells": [
  {
   "cell_type": "markdown",
   "metadata": {
    "Collapsed": "false"
   },
   "source": [
    "# Create climatology and persistence forecasts\n",
    "\n",
    "In this note book we will create the most basic baselines: persistence and climatology forecasts. We will do this for 500hPa geopotential, 850hPa temperature, precipitation and 2 meter temperature."
   ]
  },
  {
   "cell_type": "code",
   "execution_count": 1,
   "metadata": {
    "Collapsed": "false"
   },
   "outputs": [],
   "source": [
    "%load_ext autoreload\n",
    "%autoreload 2"
   ]
  },
  {
   "cell_type": "code",
   "execution_count": 2,
   "metadata": {
    "Collapsed": "false"
   },
   "outputs": [],
   "source": [
    "import numpy as np\n",
    "import xarray as xr\n",
    "import matplotlib.pyplot as plt\n",
    "import seaborn as sns\n",
    "from src.score import *"
   ]
  },
  {
   "cell_type": "code",
   "execution_count": 3,
   "metadata": {
    "Collapsed": "false"
   },
   "outputs": [],
   "source": [
    "sns.set_style('darkgrid')\n",
    "sns.set_context('notebook')"
   ]
  },
  {
   "cell_type": "markdown",
   "metadata": {
    "Collapsed": "false"
   },
   "source": [
    "## Load data\n",
    "\n",
    "First, we need to specify the directories and load the data."
   ]
  },
  {
   "cell_type": "code",
   "execution_count": 26,
   "metadata": {
    "Collapsed": "false"
   },
   "outputs": [],
   "source": [
    "res = '5.625'\n",
    "DATADIR = f'/data/WeatherBench/{res}deg/'  # Location of WeatherBench dataset\n",
    "PREDDIR = '/data/WeatherBench/baselines/'   # Location to store baseline forecasts"
   ]
  },
  {
   "cell_type": "code",
   "execution_count": 10,
   "metadata": {},
   "outputs": [
    {
     "name": "stdout",
     "output_type": "stream",
     "text": [
      "10m_u_component_of_wind  potential_vorticity\t       total_cloud_cover\n",
      "10m_v_component_of_wind  relative_humidity\t       total_precipitation\n",
      "2m_temperature\t\t specific_humidity\t       u_component_of_wind\n",
      "constants\t\t temperature\t\t       v_component_of_wind\n",
      "geopotential\t\t temperature_850\t       vorticity\n",
      "geopotential_500\t toa_incident_solar_radiation\n"
     ]
    }
   ],
   "source": [
    "!ls $DATADIR"
   ]
  },
  {
   "cell_type": "code",
   "execution_count": 12,
   "metadata": {},
   "outputs": [
    {
     "data": {
      "text/plain": [
       "<xarray.Dataset>\n",
       "Dimensions:  (lat: 32, lon: 64, time: 350640)\n",
       "Coordinates:\n",
       "  * lon      (lon) float64 0.0 5.625 11.25 16.88 ... 337.5 343.1 348.8 354.4\n",
       "  * lat      (lat) float64 -87.19 -81.56 -75.94 -70.31 ... 75.94 81.56 87.19\n",
       "  * time     (time) datetime64[ns] 1979-01-01 ... 2018-12-31T23:00:00\n",
       "Data variables:\n",
       "    t2m      (time, lat, lon) float32 dask.array<chunksize=(8760, 32, 64), meta=np.ndarray>\n",
       "Attributes:\n",
       "    Conventions:  CF-1.6\n",
       "    history:      2019-11-07 07:51:20 GMT by grib_to_netcdf-2.14.0: /opt/ecmw..."
      ]
     },
     "execution_count": 12,
     "metadata": {},
     "output_type": "execute_result"
    }
   ],
   "source": [
    "xr.open_mfdataset(f'{DATADIR}2m_temperature/*.nc', combine='by_coords')"
   ]
  },
  {
   "cell_type": "code",
   "execution_count": 14,
   "metadata": {
    "Collapsed": "false"
   },
   "outputs": [],
   "source": [
    "# Load the entire dataset for the relevant variables\n",
    "z500 = xr.open_mfdataset(f'{DATADIR}geopotential_500/*.nc', combine='by_coords').z\n",
    "t850 = xr.open_mfdataset(f'{DATADIR}temperature_850/*.nc', combine='by_coords').t.drop('level')\n",
    "tp = xr.open_mfdataset(f'{DATADIR}total_precipitation/*.nc', combine='by_coords').tp\n",
    "t2m = xr.open_mfdataset(f'{DATADIR}2m_temperature/*.nc', combine='by_coords').t2m\n",
    "data = xr.merge([z500, t850, tp, t2m])"
   ]
  },
  {
   "cell_type": "code",
   "execution_count": 19,
   "metadata": {
    "Collapsed": "false"
   },
   "outputs": [],
   "source": [
    "# Load the validation subset of the data: 2017 and 2018\n",
    "z500_valid = load_test_data(f'{DATADIR}geopotential_500', 'z')\n",
    "t850_valid = load_test_data(f'{DATADIR}temperature_850', 't')\n",
    "tp_valid = load_test_data(f'{DATADIR}total_precipitation', 'tp')\n",
    "t2m_valid = load_test_data(f'{DATADIR}2m_temperature', 't2m')\n",
    "valid_data = xr.merge([z500_valid, t850_valid, tp_valid, t2m_valid])"
   ]
  },
  {
   "cell_type": "markdown",
   "metadata": {
    "Collapsed": "false"
   },
   "source": [
    "## Persistence\n",
    "\n",
    "Persistence simply means: Tomorrow's weather is today's weather."
   ]
  },
  {
   "cell_type": "code",
   "execution_count": 21,
   "metadata": {
    "Collapsed": "false"
   },
   "outputs": [],
   "source": [
    "def create_persistence_forecast(ds, lead_time_h):\n",
    "    assert lead_time_h > 0, 'Lead time must be greater than 0'\n",
    "    ds_fc = ds.isel(time=slice(0, -lead_time_h))\n",
    "    return ds_fc"
   ]
  },
  {
   "cell_type": "code",
   "execution_count": 22,
   "metadata": {
    "Collapsed": "false"
   },
   "outputs": [],
   "source": [
    "lead_times = xr.DataArray(\n",
    "    np.arange(6, 126, 6), dims=['lead_time'], coords={'lead_time': np.arange(6, 126, 6)}, name='lead_time')"
   ]
  },
  {
   "cell_type": "code",
   "execution_count": 23,
   "metadata": {
    "Collapsed": "false"
   },
   "outputs": [],
   "source": [
    "persistence = []\n",
    "for l in lead_times:\n",
    "    persistence.append(create_persistence_forecast(valid_data, int(l)))\n",
    "persistence = xr.concat(persistence, dim=lead_times)"
   ]
  },
  {
   "cell_type": "code",
   "execution_count": 24,
   "metadata": {
    "Collapsed": "false"
   },
   "outputs": [
    {
     "data": {
      "text/plain": [
       "<xarray.Dataset>\n",
       "Dimensions:    (lat: 32, lead_time: 20, lon: 64, time: 17514)\n",
       "Coordinates:\n",
       "  * lead_time  (lead_time) int64 6 12 18 24 30 36 42 ... 90 96 102 108 114 120\n",
       "  * lon        (lon) float64 0.0 5.625 11.25 16.88 ... 337.5 343.1 348.8 354.4\n",
       "  * time       (time) datetime64[ns] 2017-01-01 ... 2018-12-31T17:00:00\n",
       "  * lat        (lat) float64 -87.19 -81.56 -75.94 -70.31 ... 75.94 81.56 87.19\n",
       "Data variables:\n",
       "    z          (lead_time, time, lat, lon) float32 dask.array<chunksize=(1, 8760, 32, 64), meta=np.ndarray>\n",
       "    t          (lead_time, time, lat, lon) float32 dask.array<chunksize=(1, 8760, 32, 64), meta=np.ndarray>\n",
       "    tp         (lead_time, time, lat, lon) float32 dask.array<chunksize=(1, 8760, 32, 64), meta=np.ndarray>\n",
       "    t2m        (lead_time, time, lat, lon) float32 dask.array<chunksize=(1, 8760, 32, 64), meta=np.ndarray>"
      ]
     },
     "execution_count": 24,
     "metadata": {},
     "output_type": "execute_result"
    }
   ],
   "source": [
    "persistence"
   ]
  },
  {
   "cell_type": "markdown",
   "metadata": {
    "Collapsed": "false"
   },
   "source": [
    "The forecast files have dimensions `[init_time, lead_time, lat, lon]`. Let's now save these files so we can evaluate them later."
   ]
  },
  {
   "cell_type": "code",
   "execution_count": 27,
   "metadata": {
    "Collapsed": "false"
   },
   "outputs": [],
   "source": [
    "# Save the predictions\n",
    "persistence.to_netcdf(f'{PREDDIR}persistence_{res}.nc')"
   ]
  },
  {
   "cell_type": "markdown",
   "metadata": {
    "Collapsed": "false"
   },
   "source": [
    "## Climatology\n",
    "\n",
    "First let's create a single climatology from the entire training dataset (meaning everything before 2017)."
   ]
  },
  {
   "cell_type": "code",
   "execution_count": 28,
   "metadata": {
    "Collapsed": "false"
   },
   "outputs": [],
   "source": [
    "def create_climatology_forecast(ds_train):\n",
    "    return ds_train.mean('time')"
   ]
  },
  {
   "cell_type": "code",
   "execution_count": 29,
   "metadata": {
    "Collapsed": "false"
   },
   "outputs": [],
   "source": [
    "train_data = data.sel(time=slice(None, '2016'))"
   ]
  },
  {
   "cell_type": "code",
   "execution_count": 30,
   "metadata": {
    "Collapsed": "false"
   },
   "outputs": [],
   "source": [
    "climatology = create_climatology_forecast(train_data)"
   ]
  },
  {
   "cell_type": "code",
   "execution_count": 31,
   "metadata": {
    "Collapsed": "false"
   },
   "outputs": [
    {
     "data": {
      "text/plain": [
       "<xarray.Dataset>\n",
       "Dimensions:  (lat: 32, lon: 64)\n",
       "Coordinates:\n",
       "    level    int32 500\n",
       "  * lon      (lon) float64 0.0 5.625 11.25 16.88 ... 337.5 343.1 348.8 354.4\n",
       "  * lat      (lat) float64 -87.19 -81.56 -75.94 -70.31 ... 75.94 81.56 87.19\n",
       "Data variables:\n",
       "    z        (lat, lon) float32 dask.array<chunksize=(32, 64), meta=np.ndarray>\n",
       "    t        (lat, lon) float32 dask.array<chunksize=(32, 64), meta=np.ndarray>\n",
       "    tp       (lat, lon) float32 dask.array<chunksize=(32, 64), meta=np.ndarray>\n",
       "    t2m      (lat, lon) float32 dask.array<chunksize=(32, 64), meta=np.ndarray>"
      ]
     },
     "execution_count": 31,
     "metadata": {},
     "output_type": "execute_result"
    }
   ],
   "source": [
    "climatology"
   ]
  },
  {
   "cell_type": "code",
   "execution_count": 38,
   "metadata": {
    "Collapsed": "false"
   },
   "outputs": [
    {
     "data": {
      "image/png": "[encoded data removed]",
      "text/plain": [
       "<Figure size 432x288 with 2 Axes>"
      ]
     },
     "metadata": {},
     "output_type": "display_data"
    }
   ],
   "source": [
    "climatology.tp.plot();"
   ]
  },
  {
   "cell_type": "code",
   "execution_count": 33,
   "metadata": {
    "Collapsed": "false"
   },
   "outputs": [],
   "source": [
    "climatology.to_netcdf(f'{PREDDIR}climatology_{res}.nc')"
   ]
  },
  {
   "cell_type": "markdown",
   "metadata": {
    "Collapsed": "false"
   },
   "source": [
    "## Climatology by week\n",
    "\n",
    "We can create amuch better climatology by taking the seasonal cycle into account. Here we will do this by creating a separate climatology for every week."
   ]
  },
  {
   "cell_type": "code",
   "execution_count": 34,
   "metadata": {
    "Collapsed": "false"
   },
   "outputs": [],
   "source": [
    "def create_weekly_climatology_forecast(ds_train, valid_time):\n",
    "    ds_train['week'] = ds_train['time.week']\n",
    "    weekly_averages = ds_train.groupby('week').mean('time')\n",
    "    valid_time['week'] = valid_time['time.week']\n",
    "    fc_list = []\n",
    "    for t in valid_time:\n",
    "        fc_list.append(weekly_averages.sel(week=t.week))\n",
    "    return xr.concat(fc_list, dim=valid_time)"
   ]
  },
  {
   "cell_type": "code",
   "execution_count": 35,
   "metadata": {
    "Collapsed": "false"
   },
   "outputs": [],
   "source": [
    "weekly_climatology = create_weekly_climatology_forecast(train_data, valid_data.time)"
   ]
  },
  {
   "cell_type": "code",
   "execution_count": 36,
   "metadata": {
    "Collapsed": "false"
   },
   "outputs": [
    {
     "data": {
      "text/plain": [
       "<xarray.Dataset>\n",
       "Dimensions:  (lat: 32, lon: 64, time: 17520)\n",
       "Coordinates:\n",
       "    level    int32 500\n",
       "  * lon      (lon) float64 0.0 5.625 11.25 16.88 ... 337.5 343.1 348.8 354.4\n",
       "  * lat      (lat) float64 -87.19 -81.56 -75.94 -70.31 ... 75.94 81.56 87.19\n",
       "    week     (time) int64 52 52 52 52 52 52 52 52 52 52 ... 1 1 1 1 1 1 1 1 1 1\n",
       "  * time     (time) datetime64[ns] 2017-01-01 ... 2018-12-31T23:00:00\n",
       "Data variables:\n",
       "    z        (time, lat, lon) float32 dask.array<chunksize=(1, 32, 64), meta=np.ndarray>\n",
       "    t        (time, lat, lon) float32 dask.array<chunksize=(1, 32, 64), meta=np.ndarray>\n",
       "    tp       (time, lat, lon) float32 dask.array<chunksize=(1, 32, 64), meta=np.ndarray>\n",
       "    t2m      (time, lat, lon) float32 dask.array<chunksize=(1, 32, 64), meta=np.ndarray>"
      ]
     },
     "execution_count": 36,
     "metadata": {},
     "output_type": "execute_result"
    }
   ],
   "source": [
    "weekly_climatology"
   ]
  },
  {
   "cell_type": "code",
   "execution_count": 37,
   "metadata": {
    "Collapsed": "false"
   },
   "outputs": [],
   "source": [
    "weekly_climatology.to_netcdf(f'{PREDDIR}weekly_climatology_{res}.nc')"
   ]
  },
  {
   "cell_type": "markdown",
   "metadata": {
    "Collapsed": "false"
   },
   "source": [
    "# The same for higher resolutions\n",
    "\n",
    "Not up to date, but previous tests for Z500 and T850 showed that there was only a tiny difference in the scores for different resolutions."
   ]
  },
  {
   "cell_type": "code",
   "execution_count": null,
   "metadata": {
    "Collapsed": "false"
   },
   "outputs": [],
   "source": [
    "for res in ['2.8125','1.40625']:\n",
    "    DATADIR = f'/media/rasp/Elements/weather-benchmark/{res}deg/'\n",
    "    # Load the entire dataset\n",
    "    z500 = xr.open_mfdataset(f'{DATADIR}geopotential/*.nc', combine='by_coords').z.sel(level=500)\n",
    "    t850 = xr.open_mfdataset(f'{DATADIR}temperature/*.nc', combine='by_coords').t.sel(level=850)\n",
    "    data = xr.merge([z500.drop('level'), t850.drop('level')])\n",
    "    # Load the validation subset of the data: 2017 and 2018\n",
    "    z500_valid = load_test_data(f'{DATADIR}geopotential', 'z')\n",
    "    t850_valid = load_test_data(f'{DATADIR}temperature', 't')\n",
    "    valid_data = xr.merge([z500_valid, t850_valid])\n",
    "    # Persistence forecast\n",
    "    persistence = []\n",
    "    for l in lead_times:\n",
    "        persistence.append(create_persistence_forecast(valid_data, int(l)))\n",
    "    persistence = xr.concat(persistence, dim=lead_times)\n",
    "    print(persistence)\n",
    "    persistence.to_netcdf(f'{PREDDIR}persistence_{res}.nc')\n",
    "    # Climatology\n",
    "    train_data = data.sel(time=slice(None, '2016'))\n",
    "    climatology = create_climatology_forecast(train_data)\n",
    "    print(climatology)\n",
    "    climatology.to_netcdf(f'{PREDDIR}climatology_{res}.nc')\n",
    "    # Weekly climatology\n",
    "    weekly_climatology = create_weekly_climatology_forecast(train_data, valid_data.time)\n",
    "    print(weekly_climatology)\n",
    "    weekly_climatology.to_netcdf(f'{PREDDIR}weekly_climatology_{res}.nc')"
   ]
  },
  {
   "cell_type": "markdown",
   "metadata": {
    "Collapsed": "false"
   },
   "source": [
    "# The End"
   ]
  }
 ],
 "metadata": {
  "kernelspec": {
   "display_name": "Python 3",
   "language": "python",
   "name": "python3"
  },
  "language_info": {
   "codemirror_mode": {
    "name": "ipython",
    "version": 3
   },
   "file_extension": ".py",
   "mimetype": "text/x-python",
   "name": "python",
   "nbconvert_exporter": "python",
   "pygments_lexer": "ipython3",
   "version": "3.7.3"
  }
 },
 "nbformat": 4,
 "nbformat_minor": 4
}
